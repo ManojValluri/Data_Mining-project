{
 "cells": [
  {
   "cell_type": "code",
   "execution_count": 10,
   "metadata": {},
   "outputs": [
    {
     "name": "stdout",
     "output_type": "stream",
     "text": [
      "C:\\Users\\saketh\\Desktop\\Data Mining\n"
     ]
    }
   ],
   "source": [
    "cd \"Data Mining\""
   ]
  },
  {
   "cell_type": "code",
   "execution_count": 11,
   "metadata": {},
   "outputs": [
    {
     "name": "stdout",
     "output_type": "stream",
     "text": [
      " Volume in drive C is Windows\n",
      " Volume Serial Number is F82E-78BC\n",
      "\n",
      " Directory of C:\\Users\\saketh\\Desktop\\Data Mining\n",
      "\n",
      "11-02-2020  01:37    <DIR>          .\n",
      "11-02-2020  01:37    <DIR>          ..\n",
      "11-02-2020  01:35           226,767 complete_dataset.csv\n",
      "11-02-2020  01:45    <DIR>          Dataset\n",
      "11-02-2020  00:57             1,425 merge_csv.py\n",
      "10-02-2020  22:47    <DIR>          test1\n",
      "11-02-2020  00:25    <DIR>          test2\n",
      "11-02-2020  00:38    <DIR>          test3\n",
      "11-02-2020  01:37    <DIR>          test4\n",
      "               2 File(s)        228,192 bytes\n",
      "               7 Dir(s)  156,363,554,816 bytes free\n"
     ]
    }
   ],
   "source": [
    "ls"
   ]
  },
  {
   "cell_type": "code",
   "execution_count": null,
   "metadata": {},
   "outputs": [],
   "source": [
    "###Script for merging many csv files into a single csv\n",
    "\n",
    "import os\n",
    "import glob\n",
    "import pandas as pd\n",
    "\n",
    "os.chdir(\"./test4\")\n",
    "extension = 'csv'\n",
    "all_filenames = [i for i in glob.glob('*.{}'.format(extension))]\n",
    "#combine all files in the list\n",
    "combined_csv = pd.concat([pd.read_csv(f,encoding='iso-8859-1') for f in all_filenames],sort=False)\n",
    "# export to csv\n",
    "\n",
    "#change the order in which columns appear\n",
    "combined_csv = combined_csv[['STATION CODE','LOCATIONS','STATE','TEMPERATURE ºC  : Min','TEMPERATURE ºC  : Max','TEMPERATURE ºC  : Mean','D.O. (mg/l)  : Min  : > 4 mg/l','D.O. (mg/l)  : Max  : > 4 mg/l','D.O. (mg/l)  : Mean  : > 4 mg/l','pH  : Min  : 6.5-8.5','pH  : Max  : 6.5-8.5','pH  : Mean  : 6.5-8.5','CONDUCTIVITY (µmhos/cm)  : Min','CONDUCTIVITY (µmhos/cm)  : Max','CONDUCTIVITY (µmhos/cm)  : Mean','B.O.D. (mg/l)  : Min  : < 3 mg/l','B.O.D. (mg/l)  : Max  : < 3 mg/l','B.O.D. (mg/l)  : Mean  : < 3 mg/l','NITRATE- N+ NITRITE-N (mg/l)  : Min','NITRATE- N+ NITRITE-N (mg/l)  : Max','NITRATE- N+ NITRITE-N (mg/l)  : Mean','FECAL COLIFORM (MPN/100ml)  : Min  : < 2500 MPN/100ml','FECAL COLIFORM (MPN/100ml)  : Max  : < 2500 MPN/100ml','FECAL COLIFORM (MPN/100ml)  : Mean  : < 2500 MPN/100ml','TOTAL COLIFORM (MPN/100ml)  : Min  : < 5000 MPN/100ml','TOTAL COLIFORM (MPN/100ml)  : Max  : < 5000 MPN/100ml','TOTAL COLIFORM (MPN/100ml)  : Mean  : < 5000 MPN/100ml']]\n",
    "combined_csv.to_csv(\"combined_csv_final.csv\", index=False, encoding='iso-8859-1')"
   ]
  },
  {
   "cell_type": "code",
   "execution_count": 3,
   "metadata": {},
   "outputs": [
    {
     "name": "stdout",
     "output_type": "stream",
     "text": [
      " Volume in drive C is Windows\n",
      " Volume Serial Number is F82E-78BC\n",
      "\n",
      " Directory of C:\\Users\\saketh\\Desktop\\Data Mining\n",
      "\n",
      "13-02-2020  19:48    <DIR>          .\n",
      "13-02-2020  19:48    <DIR>          ..\n",
      "13-02-2020  19:48           226,767 complete_dataset.csv\n",
      "11-02-2020  02:17             3,448 data_cleaning.ipynb\n",
      "11-02-2020  01:45    <DIR>          Dataset\n",
      "11-02-2020  00:57             1,425 merge_csv.py\n",
      "10-02-2020  22:47    <DIR>          test1\n",
      "11-02-2020  00:25    <DIR>          test2\n",
      "11-02-2020  00:38    <DIR>          test3\n",
      "11-02-2020  01:37    <DIR>          test4\n",
      "               3 File(s)        231,640 bytes\n",
      "               7 Dir(s)  148,743,565,312 bytes free\n"
     ]
    }
   ],
   "source": []
  },
  {
   "cell_type": "code",
   "execution_count": 7,
   "metadata": {},
   "outputs": [],
   "source": [
    "import pandas as pd\n",
    "import numpy as np\n",
    "\n",
    "wq_data =pd.read_csv(\"complete_dataset.csv\",encoding='iso-8859-1')\n",
    "\n",
    "#sample data\n",
    "small_set = wq_data.sample(10);"
   ]
  },
  {
   "cell_type": "code",
   "execution_count": 14,
   "metadata": {
    "scrolled": true
   },
   "outputs": [
    {
     "name": "stdout",
     "output_type": "stream",
     "text": [
      "STATION CODE                                             25\n",
      "LOCATIONS                                                 0\n",
      "STATE                                                     2\n",
      "TEMPERATURE ºC : Min                                     61\n",
      "TEMPERATURE ºC : Max                                     60\n",
      "TEMPERATURE ºC : Mean                                    60\n",
      "D.O. (mg/l) : Min : > 4 mg/l                            491\n",
      "D.O. (mg/l) : Max : > 4 mg/l                            491\n",
      "D.O. (mg/l) : Mean : > 4 mg/l                           491\n",
      "pH : Min : 6.5-8.5                                       11\n",
      "pH : Max : 6.5-8.5                                       11\n",
      "pH : Mean : 6.5-8.5                                      11\n",
      "CONDUCTIVITY (µmhos/cm) : Min                            59\n",
      "CONDUCTIVITY (µmhos/cm) : Max                            59\n",
      "CONDUCTIVITY (µmhos/cm) : Mean                           59\n",
      "B.O.D. (mg/l) : Min : < 3 mg/l                          165\n",
      "B.O.D. (mg/l) : Max : < 3 mg/l                          165\n",
      "B.O.D. (mg/l) : Mean : < 3 mg/l                         165\n",
      "NITRATE- N+ NITRITE-N (mg/l) : Min                        6\n",
      "NITRATE- N+ NITRITE-N (mg/l) : Max                        6\n",
      "NITRATE- N+ NITRITE-N (mg/l) : Mean                       6\n",
      "FECAL COLIFORM (MPN/100ml) : Min : < 2500 MPN/100ml     467\n",
      "FECAL COLIFORM (MPN/100ml) : Max : < 2500 MPN/100ml     467\n",
      "FECAL COLIFORM (MPN/100ml) : Mean : < 2500 MPN/100ml    467\n",
      "TOTAL COLIFORM (MPN/100ml) : Min : < 5000 MPN/100ml     304\n",
      "TOTAL COLIFORM (MPN/100ml) : Max : < 5000 MPN/100ml     304\n",
      "TOTAL COLIFORM (MPN/100ml) : Mean : < 5000 MPN/100ml    304\n",
      "dtype: int64\n"
     ]
    }
   ],
   "source": [
    "#gives the number of cells missing in each column\n",
    "missing_data = wq_data.isnull().sum();\n",
    "print(missing_data);"
   ]
  },
  {
   "cell_type": "code",
   "execution_count": 15,
   "metadata": {},
   "outputs": [
    {
     "name": "stdout",
     "output_type": "stream",
     "text": [
      "Percentage of missing data:10.81756679279899\n"
     ]
    }
   ],
   "source": [
    "total_cells= np.product(wq_data.shape)\n",
    "total_missing_values = missing_data.sum();\n",
    "\n",
    "\n",
    "print(\"Percentage of missing data:\" +str ( (total_missing_values/total_cells)*100) )"
   ]
  },
  {
   "cell_type": "code",
   "execution_count": 5,
   "metadata": {},
   "outputs": [
    {
     "name": "stdout",
     "output_type": "stream",
     "text": [
      "Total missing values:0\n",
      "Percentage of missing data:0.0\n"
     ]
    }
   ],
   "source": [
    "import pandas as pd\n",
    "import numpy as np\n",
    "\n",
    "wq_data =pd.read_csv(\"complete_dataset.csv\",encoding='iso-8859-1')\n",
    "\n",
    "#replacing missing values with column means\n",
    "means =wq_data.mean();\n",
    "\n",
    "\n",
    "wq_data=wq_data.fillna(means);\n",
    "\n",
    "#Outlier analysis \n",
    "\n",
    "#Records are deleted if no State is mentioned\n",
    "missing_state=pd.notnull(wq_data['STATE'])\n",
    "wq_final_data=wq_data[missing_state];\n",
    "\n",
    "missing_data = wq_final_data.isnull().sum();\n",
    "total_cells= np.product(wq_final_data.shape)\n",
    "total_missing_values = missing_data.sum();\n",
    "\n",
    "print(\"Total missing values:\"+str(total_missing_values))\n",
    "print(\"Percentage of missing data:\" +str ( (total_missing_values/total_cells)*100) )\n",
    "\n",
    "wq_final_data.to_csv(\"combined_csv_missingval_mean.csv\", index=False, encoding='iso-8859-1');"
   ]
  },
  {
   "cell_type": "code",
   "execution_count": 4,
   "metadata": {},
   "outputs": [
    {
     "name": "stdout",
     "output_type": "stream",
     "text": [
      "C:\\Users\\saketh\\Desktop\\Data Mining\n"
     ]
    }
   ],
   "source": [
    "cd \"Desktop/Data Mining\""
   ]
  }
 ],
 "metadata": {
  "kernelspec": {
   "display_name": "Python 3",
   "language": "python",
   "name": "python3"
  },
  "language_info": {
   "codemirror_mode": {
    "name": "ipython",
    "version": 3
   },
   "file_extension": ".py",
   "mimetype": "text/x-python",
   "name": "python",
   "nbconvert_exporter": "python",
   "pygments_lexer": "ipython3",
   "version": "3.7.3"
  }
 },
 "nbformat": 4,
 "nbformat_minor": 2
}
