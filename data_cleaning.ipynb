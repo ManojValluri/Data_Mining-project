{
 "cells": [
  {
   "cell_type": "code",
   "execution_count": 10,
   "metadata": {},
   "outputs": [
    {
     "name": "stdout",
     "output_type": "stream",
     "text": [
      "C:\\Users\\saketh\\Desktop\\Data Mining\n"
     ]
    }
   ],
   "source": [
    "cd \"Data Mining\""
   ]
  },
  {
   "cell_type": "code",
   "execution_count": 11,
   "metadata": {},
   "outputs": [
    {
     "name": "stdout",
     "output_type": "stream",
     "text": [
      " Volume in drive C is Windows\n",
      " Volume Serial Number is F82E-78BC\n",
      "\n",
      " Directory of C:\\Users\\saketh\\Desktop\\Data Mining\n",
      "\n",
      "11-02-2020  01:37    <DIR>          .\n",
      "11-02-2020  01:37    <DIR>          ..\n",
      "11-02-2020  01:35           226,767 complete_dataset.csv\n",
      "11-02-2020  01:45    <DIR>          Dataset\n",
      "11-02-2020  00:57             1,425 merge_csv.py\n",
      "10-02-2020  22:47    <DIR>          test1\n",
      "11-02-2020  00:25    <DIR>          test2\n",
      "11-02-2020  00:38    <DIR>          test3\n",
      "11-02-2020  01:37    <DIR>          test4\n",
      "               2 File(s)        228,192 bytes\n",
      "               7 Dir(s)  156,363,554,816 bytes free\n"
     ]
    }
   ],
   "source": [
    "ls"
   ]
  },
  {
   "cell_type": "code",
   "execution_count": null,
   "metadata": {},
   "outputs": [],
   "source": [
    "###Script for merging many csv files into a single csv\n",
    "\n",
    "import os\n",
    "import glob\n",
    "import pandas as pd\n",
    "\n",
    "os.chdir(\"./test4\")\n",
    "extension = 'csv'\n",
    "all_filenames = [i for i in glob.glob('*.{}'.format(extension))]\n",
    "#combine all files in the list\n",
    "combined_csv = pd.concat([pd.read_csv(f,encoding='iso-8859-1') for f in all_filenames],sort=False)\n",
    "\n",
    "#change the order in which columns appear\n",
    "combined_csv = combined_csv[['STATION CODE','LOCATIONS','STATE','TEMPERATURE ºC  : Min','TEMPERATURE ºC  : Max','TEMPERATURE ºC  : Mean','D.O. (mg/l)  : Min  : > 4 mg/l','D.O. (mg/l)  : Max  : > 4 mg/l','D.O. (mg/l)  : Mean  : > 4 mg/l','pH  : Min  : 6.5-8.5','pH  : Max  : 6.5-8.5','pH  : Mean  : 6.5-8.5','CONDUCTIVITY (µmhos/cm)  : Min','CONDUCTIVITY (µmhos/cm)  : Max','CONDUCTIVITY (µmhos/cm)  : Mean','B.O.D. (mg/l)  : Min  : < 3 mg/l','B.O.D. (mg/l)  : Max  : < 3 mg/l','B.O.D. (mg/l)  : Mean  : < 3 mg/l','NITRATE- N+ NITRITE-N (mg/l)  : Min','NITRATE- N+ NITRITE-N (mg/l)  : Max','NITRATE- N+ NITRITE-N (mg/l)  : Mean','FECAL COLIFORM (MPN/100ml)  : Min  : < 2500 MPN/100ml','FECAL COLIFORM (MPN/100ml)  : Max  : < 2500 MPN/100ml','FECAL COLIFORM (MPN/100ml)  : Mean  : < 2500 MPN/100ml','TOTAL COLIFORM (MPN/100ml)  : Min  : < 5000 MPN/100ml','TOTAL COLIFORM (MPN/100ml)  : Max  : < 5000 MPN/100ml','TOTAL COLIFORM (MPN/100ml)  : Mean  : < 5000 MPN/100ml']]\n",
    "\n",
    "# export to csv\n",
    "combined_csv.to_csv(\"combined_csv_final.csv\", index=False, encoding='iso-8859-1')"
   ]
  }
 ],
 "metadata": {
  "kernelspec": {
   "display_name": "Python 3",
   "language": "python",
   "name": "python3"
  },
  "language_info": {
   "codemirror_mode": {
    "name": "ipython",
    "version": 3
   },
   "file_extension": ".py",
   "mimetype": "text/x-python",
   "name": "python",
   "nbconvert_exporter": "python",
   "pygments_lexer": "ipython3",
   "version": "3.7.3"
  }
 },
 "nbformat": 4,
 "nbformat_minor": 2
}
